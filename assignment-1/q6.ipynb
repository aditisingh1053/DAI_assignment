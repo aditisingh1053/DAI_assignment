{
 "cells": [
  {
   "cell_type": "code",
   "execution_count": 9,
   "metadata": {},
   "outputs": [
    {
     "name": "stdout",
     "output_type": "stream",
     "text": [
      "[10 15 19 26 28 28 29 32 33 39 52 56 59 70 70 70 71 73 77 99]\n"
     ]
    }
   ],
   "source": [
    "import random\n",
    "import numpy as np\n",
    "A = np.random.randint(0, 100, size=20)\n",
    "A.sort()\n",
    "print(A)"
   ]
  },
  {
   "cell_type": "code",
   "execution_count": 10,
   "metadata": {},
   "outputs": [
    {
     "name": "stdout",
     "output_type": "stream",
     "text": [
      "47.8\n",
      "45.5\n",
      "24.319950657844682\n"
     ]
    }
   ],
   "source": [
    "OldMean = A.mean()\n",
    "OldMedian = np.median(A)\n",
    "OldStd = np.std(A)\n",
    "\n",
    "print(f\"{OldMean}\\n{OldMedian}\\n{OldStd}\")"
   ]
  },
  {
   "cell_type": "code",
   "execution_count": 11,
   "metadata": {},
   "outputs": [],
   "source": [
    "def UpdateMean(OldMean, NewDataValue, n, A):\n",
    "    newMean = OldMean*(n/(n+1)) + NewDataValue*(1 / (n+1))\n",
    "    return newMean"
   ]
  },
  {
   "cell_type": "code",
   "execution_count": 12,
   "metadata": {},
   "outputs": [],
   "source": [
    "def UpdateMedianForNonSorted(OldMedian, NewDataValue, n, A):\n",
    "    lower_half = []\n",
    "    upper_half = []\n",
    "    equal_count = 0\n",
    "    for x in A:\n",
    "        if x==OldMedian:\n",
    "            equal_count += 1\n",
    "        elif x < OldMedian:\n",
    "            lower_half.append(x)\n",
    "        else:\n",
    "            upper_half.append(x)\n",
    "    eq_val_in_l = int( ( equal_count + len(upper_half) - len(lower_half) ) / 2 )\n",
    "    eq_val_in_u = int( ( equal_count - len(upper_half) + len(lower_half) ) / 2 )\n",
    "    \n",
    "    for i in range(eq_val_in_l):\n",
    "        lower_half.append(OldMedian)\n",
    "    for i in range(eq_val_in_u):\n",
    "        upper_half.append(OldMedian)\n",
    "    \n",
    "    # A.append(NewDataValue)\n",
    "    \n",
    "    if n % 2 == 0:\n",
    "        if NewDataValue == OldMedian:\n",
    "            return OldMedian\n",
    "        elif NewDataValue < OldMedian:\n",
    "            return max(lower_half + [NewDataValue])\n",
    "        else:\n",
    "            return min(upper_half + [NewDataValue])\n",
    "    else:\n",
    "        if NewDataValue == OldMedian:\n",
    "            return OldMedian\n",
    "        elif NewDataValue < OldMedian:\n",
    "            return ( OldMedian + max(lower_half + [NewDataValue]) ) / 2\n",
    "        else:\n",
    "            return ( OldMedian + min(upper_half + [NewDataValue]) ) / 2"
   ]
  },
  {
   "cell_type": "code",
   "execution_count": 13,
   "metadata": {},
   "outputs": [],
   "source": [
    "def UpdateMedian(OldMedian, NewDataValue, n, A):\n",
    "    #assuming the given array is in ascending order\n",
    "    if n%2 == 0:\n",
    "        if NewDataValue <= A[int(n/2)]:\n",
    "            return A[int(n/2)]\n",
    "        elif NewDataValue <=A[int(n/2) + 1]:\n",
    "            return NewDataValue\n",
    "        else:\n",
    "            return A[int(n/2) + 1]\n",
    "    else:\n",
    "        if NewDataValue <= A[int((n-1)/2)]:\n",
    "            return (A[int((n-1)/2)] + A[int((n+1)/2)])/2\n",
    "        elif NewDataValue <= A[int((n+3)/2)]:\n",
    "            return (A[int((n+1)/2)] + NewDataValue)/2\n",
    "        else:\n",
    "            return (A[int((n+1)/2)] + A[int((n+3)/2)])/2"
   ]
  },
  {
   "cell_type": "code",
   "execution_count": 14,
   "metadata": {},
   "outputs": [],
   "source": [
    "def UpdateStd(OldMean, OldStd, NewMean, NewDataValue, n, A):\n",
    "    newStd = ((OldStd**2)*((n-1)/(n)) + OldMean**2 + (NewDataValue**2)/n - ((NewMean**2)*(n+1)/n))**(1/2)\n",
    "    return newStd"
   ]
  },
  {
   "cell_type": "code",
   "execution_count": 16,
   "metadata": {},
   "outputs": [
    {
     "name": "stdout",
     "output_type": "stream",
     "text": [
      "50.28571428571428\n",
      "56\n",
      "26.299073856588294\n"
     ]
    }
   ],
   "source": [
    "newval = 100\n",
    "print(UpdateMean(OldMean, newval, 20, A))\n",
    "print(UpdateMedian(OldMedian, newval, 20, A))\n",
    "print(UpdateStd(OldMean, OldStd, UpdateMean(OldMean, newval, 20, A), newval, 20, A))"
   ]
  }
 ],
 "metadata": {
  "kernelspec": {
   "display_name": "Python 3",
   "language": "python",
   "name": "python3"
  },
  "language_info": {
   "codemirror_mode": {
    "name": "ipython",
    "version": 3
   },
   "file_extension": ".py",
   "mimetype": "text/x-python",
   "name": "python",
   "nbconvert_exporter": "python",
   "pygments_lexer": "ipython3",
   "version": "3.11.0rc1"
  }
 },
 "nbformat": 4,
 "nbformat_minor": 2
}
