{
 "cells": [
  {
   "cell_type": "code",
   "execution_count": 11,
   "metadata": {},
   "outputs": [
    {
     "name": "stdout",
     "output_type": "stream",
     "text": [
      "[78 86 29 83 20 61 93 42 90 46 37 54 62  4 26  9 87 18 39 76]\n"
     ]
    }
   ],
   "source": [
    "import random\n",
    "import numpy as np\n",
    "A = np.random.randint(0, 100, size=20)\n",
    "print(A)"
   ]
  },
  {
   "cell_type": "code",
   "execution_count": 12,
   "metadata": {},
   "outputs": [
    {
     "name": "stdout",
     "output_type": "stream",
     "text": [
      "52.0\n",
      "50.0\n",
      "28.259511673063283\n"
     ]
    }
   ],
   "source": [
    "OldMean = A.mean()\n",
    "OldMedian = np.median(A)\n",
    "OldStd = np.std(A)\n",
    "\n",
    "print(f\"{OldMean}\\n{OldMedian}\\n{OldStd}\")"
   ]
  },
  {
   "cell_type": "code",
   "execution_count": 13,
   "metadata": {},
   "outputs": [],
   "source": [
    "def UpdateMean(OldMean, NewDataValue, n, A):\n",
    "    newMean = OldMean*(n/(n+1)) + NewDataValue*(1 / (n+1))\n",
    "    return newMean"
   ]
  },
  {
   "cell_type": "code",
   "execution_count": 15,
   "metadata": {},
   "outputs": [],
   "source": [
    "def UpdateMedianForNonSorted(OldMedian, NewDataValue, n, A):\n",
    "    lower_half = []\n",
    "    upper_half = []\n",
    "    equal_count = 0\n",
    "    for x in A:\n",
    "        if x==OldMedian:\n",
    "            equal_count += 1\n",
    "        elif x < OldMedian:\n",
    "            lower_half.append(x)\n",
    "        else:\n",
    "            upper_half.append(x)\n",
    "    eq_val_in_l = int( ( equal_count + len(upper_half) - len(lower_half) ) / 2 )\n",
    "    eq_val_in_u = int( ( equal_count - len(upper_half) + len(lower_half) ) / 2 )\n",
    "    \n",
    "    for i in range(eq_val_in_l):\n",
    "        lower_half.append(OldMedian)\n",
    "    for i in range(eq_val_in_u):\n",
    "        upper_half.append(OldMedian)\n",
    "    \n",
    "    # A.append(NewDataValue)\n",
    "    \n",
    "    if n % 2 == 0:\n",
    "        if NewDataValue == OldMedian:\n",
    "            return OldMedian\n",
    "        elif NewDataValue < OldMedian:\n",
    "            return max(lower_half + [NewDataValue])\n",
    "        else:\n",
    "            return min(upper_half + [NewDataValue])\n",
    "    else:\n",
    "        if NewDataValue == OldMedian:\n",
    "            return OldMedian\n",
    "        elif NewDataValue < OldMedian:\n",
    "            return ( OldMedian + max(lower_half + [NewDataValue]) ) / 2\n",
    "        else:\n",
    "            return ( OldMedian + min(upper_half + [NewDataValue]) ) / 2"
   ]
  },
  {
   "cell_type": "code",
   "execution_count": 19,
   "metadata": {},
   "outputs": [],
   "source": [
    "def UpdateMedian(OldMedian, NewDataValue, n, A):\n",
    "    #assuming the given array is in ascending order\n",
    "    if n%2 == 0:\n",
    "        if NewDataValue <= A[int(n/2)]:\n",
    "            return A[int(n/2)]\n",
    "        elif NewDataValue <=A[int(n/2) + 1]:\n",
    "            return NewDataValue\n",
    "        else:\n",
    "            return A[int(n/2) + 1]\n",
    "    else:\n",
    "        if NewDataValue <= A[int((n-1)/2)]:\n",
    "            return (A[int((n-1)/2)] + A[int((n+1)/2)])/2\n",
    "        elif NewDataValue <= A[int((n+3)/2)]:\n",
    "            return (A[int((n+1)/2)] + NewDataValue)/2\n",
    "        else:\n",
    "            return (A[int((n+1)/2)] + A[int((n+3)/2)])/2"
   ]
  },
  {
   "cell_type": "code",
   "execution_count": 17,
   "metadata": {},
   "outputs": [],
   "source": [
    "def UpdateStd(OldMean, OldStd, NewMean, NewDataValue, n, A):\n",
    "    newStd = ((OldStd**2 + OldMean**2)*(n/(n+1)) + (NewDataValue**2)/((n+1)) - NewMean**2)**(1/2)\n",
    "    return newStd"
   ]
  },
  {
   "cell_type": "code",
   "execution_count": 22,
   "metadata": {},
   "outputs": [
    {
     "name": "stdout",
     "output_type": "stream",
     "text": [
      "54.28571428571428\n",
      "54\n",
      "29.411923168840833\n"
     ]
    }
   ],
   "source": [
    "newval = 100\n",
    "print(UpdateMean(OldMean, newval, 20, A))\n",
    "print(UpdateMedian(OldMedian, newval, 20, A))\n",
    "print(UpdateStd(OldMean, OldStd, UpdateMean(OldMean, newval, 20, A), newval, 20, A))"
   ]
  }
 ],
 "metadata": {
  "kernelspec": {
   "display_name": "Python 3",
   "language": "python",
   "name": "python3"
  },
  "language_info": {
   "codemirror_mode": {
    "name": "ipython",
    "version": 3
   },
   "file_extension": ".py",
   "mimetype": "text/x-python",
   "name": "python",
   "nbconvert_exporter": "python",
   "pygments_lexer": "ipython3",
   "version": "3.11.0rc1"
  }
 },
 "nbformat": 4,
 "nbformat_minor": 2
}
